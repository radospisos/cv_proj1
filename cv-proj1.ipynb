{
 "cells": [
  {
   "cell_type": "code",
   "execution_count": 12,
   "id": "2be02b84",
   "metadata": {},
   "outputs": [],
   "source": [
    "from sklearn.model_selection import train_test_split\n",
    "from sklearn.metrics import classification_report\n",
    "from sklearn.preprocessing import LabelBinarizer\n",
    "from tensorflow.keras.optimizers import SGD\n",
    "from tensorflow.keras.metrics import AUC\n",
    "from keras.models import Sequential\n",
    "from keras.layers.core import Dense\n",
    "from keras.layers import Conv2D, MaxPooling2D, Dropout, Flatten\n",
    "from imutils import paths\n",
    "from enum import Enum\n",
    "import matplotlib.pyplot as plt\n",
    "import numpy as np\n",
    "import pandas as pd\n",
    "import random\n",
    "import pickle\n",
    "import cv2\n",
    "import os\n",
    "\n",
    "random.seed(42)"
   ]
  },
  {
   "cell_type": "code",
   "execution_count": 13,
   "id": "ef8b8251",
   "metadata": {},
   "outputs": [
    {
     "name": "stdout",
     "output_type": "stream",
     "text": [
      "(3000, 32, 32, 3)\n",
      "['cats' 'dogs' 'panda']\n"
     ]
    },
    {
     "data": {
      "text/plain": [
       "'\\none_hot_map = {\"cats\": np.array([1, 0, 0]), \"dogs\": np.array([0, 1, 0]), \"panda\": np.array([0, 0, 1])}\\n\\nlabels = np.array(labels)\\nfor key in one_hot_map:\\n    labels = np.where(labels == np.array([key]), one_hot_map[key], labels)\\n\\nlabels = labels.astype(np.int64)\\n\\ndel one_hot_map\\ndel imagePaths\\n'"
      ]
     },
     "execution_count": 13,
     "metadata": {},
     "output_type": "execute_result"
    }
   ],
   "source": [
    "# Load data.\n",
    "path = \"/Users/rodion/Documents/cv_proj1/dataset/animals\"\n",
    "imagePaths = sorted(list(paths.list_images(path)))\n",
    "random.shuffle(imagePaths)\n",
    "\n",
    "data = []\n",
    "labels = []\n",
    "\n",
    "for imagePath in imagePaths:\n",
    "    image = cv2.imread(imagePath)\n",
    "    image = cv2.resize(image, (32, 32))\n",
    "    data.append(image)\n",
    " \n",
    "    label = imagePath.split(os.path.sep)[-2]\n",
    "    labels.append([label])\n",
    "    \n",
    "# Scale pixels.\n",
    "data = np.array(data, dtype=\"float\") / 255.0\n",
    "labels = np.array(labels)\n",
    "\n",
    "# Split.\n",
    "(X_train, X_test, Y_train, Y_test) = train_test_split(data, labels, test_size=0.1)\n",
    "\n",
    "# Encode labels.\n",
    "lb = LabelBinarizer()\n",
    "Y_train = lb.fit_transform(Y_train)\n",
    "Y_test = lb.transform(Y_test)\n",
    "\n",
    "print(data.shape)\n",
    "print(lb.classes_)\n",
    "'''\n",
    "one_hot_map = {\"cats\": np.array([1, 0, 0]), \"dogs\": np.array([0, 1, 0]), \"panda\": np.array([0, 0, 1])}\n",
    "\n",
    "labels = np.array(labels)\n",
    "for key in one_hot_map:\n",
    "    labels = np.where(labels == np.array([key]), one_hot_map[key], labels)\n",
    "\n",
    "labels = labels.astype(np.int64)\n",
    "\n",
    "del one_hot_map\n",
    "del imagePaths\n",
    "'''"
   ]
  },
  {
   "cell_type": "code",
   "execution_count": 14,
   "id": "c49a2ef5",
   "metadata": {},
   "outputs": [],
   "source": [
    "class hps(Enum):\n",
    "    EPOCHS = 1\n",
    "    LEARNING_RATE = 2\n",
    "    DROPOUT = 3\n",
    "    \n",
    "hp = {\n",
    "    hps.EPOCHS: 75,\n",
    "    hps.LEARNING_RATE: 0.01,\n",
    "    hps.DROPOUT: 0.25\n",
    "}"
   ]
  },
  {
   "cell_type": "code",
   "execution_count": null,
   "id": "da4221ad",
   "metadata": {
    "scrolled": true
   },
   "outputs": [
    {
     "name": "stdout",
     "output_type": "stream",
     "text": [
      "Epoch 1/75\n",
      "85/85 [==============================] - 2s 15ms/step - loss: 1.0996 - accuracy: 0.4256 - val_loss: 0.9916 - val_accuracy: 0.4667\n",
      "Epoch 2/75\n",
      "85/85 [==============================] - 1s 10ms/step - loss: 0.9805 - accuracy: 0.4833 - val_loss: 0.9831 - val_accuracy: 0.4667\n",
      "Epoch 3/75\n",
      "85/85 [==============================] - 1s 10ms/step - loss: 0.9278 - accuracy: 0.5356 - val_loss: 0.9604 - val_accuracy: 0.5100\n",
      "Epoch 4/75\n",
      "85/85 [==============================] - 1s 9ms/step - loss: 0.9115 - accuracy: 0.5415 - val_loss: 1.0091 - val_accuracy: 0.4967\n",
      "Epoch 5/75\n",
      "85/85 [==============================] - 1s 10ms/step - loss: 0.9006 - accuracy: 0.5381 - val_loss: 0.9501 - val_accuracy: 0.5333\n",
      "Epoch 6/75\n",
      "85/85 [==============================] - 1s 10ms/step - loss: 0.8838 - accuracy: 0.5685 - val_loss: 0.9510 - val_accuracy: 0.5200\n",
      "Epoch 7/75\n",
      "85/85 [==============================] - 1s 10ms/step - loss: 0.8772 - accuracy: 0.5722 - val_loss: 0.9605 - val_accuracy: 0.5267\n",
      "Epoch 8/75\n",
      "85/85 [==============================] - 1s 10ms/step - loss: 0.8692 - accuracy: 0.5756 - val_loss: 0.9479 - val_accuracy: 0.5267\n",
      "Epoch 9/75\n",
      "85/85 [==============================] - 1s 10ms/step - loss: 0.8691 - accuracy: 0.5663 - val_loss: 0.9974 - val_accuracy: 0.5100\n",
      "Epoch 10/75\n",
      "85/85 [==============================] - 1s 9ms/step - loss: 0.8597 - accuracy: 0.5722 - val_loss: 0.9688 - val_accuracy: 0.5367\n",
      "Epoch 11/75\n",
      "85/85 [==============================] - 1s 10ms/step - loss: 0.8509 - accuracy: 0.5800 - val_loss: 0.9420 - val_accuracy: 0.5167\n",
      "Epoch 12/75\n",
      "85/85 [==============================] - 1s 9ms/step - loss: 0.8413 - accuracy: 0.5893 - val_loss: 0.9646 - val_accuracy: 0.5267\n",
      "Epoch 13/75\n",
      "85/85 [==============================] - 1s 9ms/step - loss: 0.8420 - accuracy: 0.5804 - val_loss: 0.9366 - val_accuracy: 0.5267\n",
      "Epoch 14/75\n",
      "55/85 [==================>...........] - ETA: 0s - loss: 0.8318 - accuracy: 0.5858"
     ]
    }
   ],
   "source": [
    "model = Sequential()\n",
    "model.add(Conv2D(1, (3, 3), padding='same', activation='relu', input_shape=(32, 32, 3)))\n",
    "model.add(MaxPooling2D(pool_size=(2, 2), padding=\"valid\", strides=1))\n",
    "model.add(Dropout(hp[hps.DROPOUT]))\n",
    "\n",
    "model.add(Flatten())\n",
    "model.add(Dense(512, activation=\"relu\"))\n",
    "model.add(Dropout(hp[hps.DROPOUT]))\n",
    "model.add(Dense(3, activation=\"softmax\"))\n",
    "\n",
    "opt = SGD(learning_rate=hp[hps.LEARNING_RATE])\n",
    "model.compile(loss=\"categorical_crossentropy\", optimizer=opt, metrics=[\"accuracy\"])\n",
    "\n",
    "H = model.fit(X_train, Y_train, validation_data=(X_test, Y_test), epochs=hp[hps.EPOCHS], batch_size=32) "
   ]
  },
  {
   "cell_type": "code",
   "execution_count": null,
   "id": "fcdaa0ad",
   "metadata": {},
   "outputs": [],
   "source": [
    "predictions = model.predict(X_test, batch_size=32)\n",
    "print(type(Y_test.argmax(axis=1)))\n",
    "print(classification_report(Y_test.argmax(axis=1), predictions.argmax(axis=1), target_names=lb.classes_))\n",
    "\n",
    "N = np.arange(0, hp[hps.EPOCHS])\n",
    "plt.style.use(\"ggplot\")\n",
    "plt.figure()\n",
    "plt.plot(N, H.history[\"loss\"], label=\"train_loss\")\n",
    "plt.plot(N, H.history[\"val_loss\"], label=\"val_loss\")\n",
    "plt.plot(N, H.history[\"accuracy\"], label=\"train_acc\")\n",
    "plt.plot(N, H.history[\"val_accuracy\"], label=\"val_acc\")\n",
    "plt.title(\"Training Loss and Accuracy\")\n",
    "plt.xlabel(\"Epoch #\")\n",
    "plt.ylabel(\"Loss/Accuracy\")\n",
    "plt.legend()\n",
    "plt.savefig('/Users/rodion/Documents/cv_proj1/loss_acc.png')"
   ]
  },
  {
   "cell_type": "code",
   "execution_count": null,
   "id": "14816e16",
   "metadata": {},
   "outputs": [],
   "source": [
    "model.save('/Users/rodion/Documents/cv_proj1/cnn')\n",
    "with open('/Users/rodion/Documents/cv_proj1/binarizer', \"wb\") as f: \n",
    "    pickle.dump(lb, f)\n",
    "f.close() "
   ]
  },
  {
   "cell_type": "code",
   "execution_count": null,
   "id": "649339b8",
   "metadata": {},
   "outputs": [],
   "source": []
  }
 ],
 "metadata": {
  "kernelspec": {
   "display_name": "Python 3",
   "language": "python",
   "name": "python3"
  },
  "language_info": {
   "codemirror_mode": {
    "name": "ipython",
    "version": 3
   },
   "file_extension": ".py",
   "mimetype": "text/x-python",
   "name": "python",
   "nbconvert_exporter": "python",
   "pygments_lexer": "ipython3",
   "version": "3.8.8"
  }
 },
 "nbformat": 4,
 "nbformat_minor": 5
}
