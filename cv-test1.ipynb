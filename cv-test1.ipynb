{
 "cells": [
  {
   "cell_type": "code",
   "execution_count": 5,
   "id": "9806984b",
   "metadata": {},
   "outputs": [
    {
     "name": "stdout",
     "output_type": "stream",
     "text": [
      "(1, 32, 32, 3)\n"
     ]
    }
   ],
   "source": [
    "from keras.models import load_model\n",
    "import pickle\n",
    "import cv2\n",
    "\n",
    "image = cv2.imread('/Users/rodion/Documents/cv_proj1/dataset/images/cat.jpg')\n",
    "output = image.copy()\n",
    "image = cv2.resize(image, (32, 32))\n",
    " \n",
    "# Scale.\n",
    "image = image.astype(\"float\") / 255.0\n",
    "\n",
    "image = image.reshape((1, image.shape[0], image.shape[1], image.shape[2]))\n",
    "print(image.shape)\n"
   ]
  },
  {
   "cell_type": "code",
   "execution_count": 6,
   "id": "f2e424ec",
   "metadata": {},
   "outputs": [
    {
     "name": "stdout",
     "output_type": "stream",
     "text": [
      "[INFO] loading network and label binarizer...\n"
     ]
    }
   ],
   "source": [
    "print(\"[INFO] loading network and label binarizer...\")\n",
    "model = load_model('/Users/rodion/Documents/cv_proj1/cnn')\n",
    "lb = pickle.loads(open('/Users/rodion/Documents/cv_proj1/binarizer', \"rb\").read())\n",
    "\n",
    "preds = model.predict(image)\n",
    "\n",
    "i = preds.argmax(axis=1)[0]\n",
    "label = lb.classes_[i]"
   ]
  },
  {
   "cell_type": "code",
   "execution_count": null,
   "id": "9b018548",
   "metadata": {},
   "outputs": [],
   "source": [
    "print(preds)"
   ]
  },
  {
   "cell_type": "code",
   "execution_count": null,
   "id": "9a846485",
   "metadata": {},
   "outputs": [],
   "source": [
    "# рисуем метку класса + вероятность на выходном изображении\n",
    "text = \"{}: {:.2f}%\".format(label, preds[0][i] * 100)\n",
    "cv2.putText(output, text, (10, 30), cv2.FONT_HERSHEY_SIMPLEX, 0.7,\n",
    "    (0, 0, 255), 2)\n",
    " \n",
    "# показываем выходное изображение\n",
    "cv2.imshow(\"Image\", output)\n",
    "cv2.waitKey(0) "
   ]
  },
  {
   "cell_type": "code",
   "execution_count": null,
   "id": "21863c2a",
   "metadata": {},
   "outputs": [],
   "source": []
  }
 ],
 "metadata": {
  "kernelspec": {
   "display_name": "Python 3",
   "language": "python",
   "name": "python3"
  },
  "language_info": {
   "codemirror_mode": {
    "name": "ipython",
    "version": 3
   },
   "file_extension": ".py",
   "mimetype": "text/x-python",
   "name": "python",
   "nbconvert_exporter": "python",
   "pygments_lexer": "ipython3",
   "version": "3.8.8"
  }
 },
 "nbformat": 4,
 "nbformat_minor": 5
}
